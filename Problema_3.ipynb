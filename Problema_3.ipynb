{
 "cells": [
  {
   "cell_type": "markdown",
   "metadata": {},
   "source": [
    "## Ingresa una palabra en el sistema y que te encuentre el número de mayusculas y minusculas"
   ]
  },
  {
   "cell_type": "code",
   "execution_count": 1,
   "metadata": {},
   "outputs": [
    {
     "name": "stdout",
     "output_type": "stream",
     "text": [
      "Ingrese palabra: laQQQs\n",
      "mayusculas:  3\n",
      "minusculas:  3\n"
     ]
    }
   ],
   "source": [
    "palabra = input(\"Ingrese palabra: \")\n",
    "indice=0\n",
    "mayusculas=0\n",
    "minusculas=0\n",
    "while indice < len(palabra):\n",
    "  letra = palabra[indice]\n",
    "  if letra.isupper() == True:\n",
    "    mayusculas +=1\n",
    "  else:\n",
    "    minusculas +=1\n",
    "  indice += 1\n",
    "\n",
    "print(\"mayusculas: \" , mayusculas)\n",
    "print(\"minusculas: \" , minusculas)"
   ]
  },
  {
   "cell_type": "code",
   "execution_count": 2,
   "metadata": {},
   "outputs": [
    {
     "name": "stdout",
     "output_type": "stream",
     "text": [
      "Ingrese palabra: BueNas TaRdeS\n",
      "mayusculas:  5\n",
      "minusculas:  8\n"
     ]
    }
   ],
   "source": [
    "palabra = input(\"Ingrese palabra: \")\n",
    "indice=0\n",
    "mayusculas=0\n",
    "minusculas=0\n",
    "for i in range(len(palabra)):\n",
    "    i=palabra[indice]\n",
    "    if i.isupper():\n",
    "        mayusculas+=1\n",
    "    else:\n",
    "        minusculas+=1\n",
    "    indice+=1\n",
    "print(\"mayusculas: \" , mayusculas)\n",
    "print(\"minusculas: \" , minusculas)   "
   ]
  },
  {
   "cell_type": "markdown",
   "metadata": {},
   "source": [
    "## Que te diferencie la misma letra en mayuscula/minuscula"
   ]
  },
  {
   "cell_type": "code",
   "execution_count": 3,
   "metadata": {},
   "outputs": [
    {
     "name": "stdout",
     "output_type": "stream",
     "text": [
      "Ingrese palabra: aaaAAAA\n",
      "minusculas:  3\n",
      "mayusculas:  4\n"
     ]
    }
   ],
   "source": [
    "palabra = input(\"Ingrese palabra: \")\n",
    "indice=0\n",
    "A=0\n",
    "a=0\n",
    "for i in range(len(palabra)):\n",
    "    i=palabra[indice]\n",
    "    if i==\"a\":\n",
    "        a+=1\n",
    "    else:\n",
    "        A+=1\n",
    "    indice+=1\n",
    "print(\"minusculas: \" , a)\n",
    "print(\"mayusculas: \" , A)"
   ]
  },
  {
   "cell_type": "markdown",
   "metadata": {},
   "source": [
    "Función que sum"
   ]
  },
  {
   "cell_type": "code",
   "execution_count": 6,
   "metadata": {},
   "outputs": [],
   "source": [
    "def solution(number):\n",
    "    result = []\n",
    "    for i in range(1, number+1):\n",
    "            result.append(i)\n",
    "    return sum(result)"
   ]
  },
  {
   "cell_type": "code",
   "execution_count": 7,
   "metadata": {},
   "outputs": [
    {
     "data": {
      "text/plain": [
       "15"
      ]
     },
     "execution_count": 7,
     "metadata": {},
     "output_type": "execute_result"
    }
   ],
   "source": [
    "solution(5)"
   ]
  },
  {
   "cell_type": "code",
   "execution_count": null,
   "metadata": {},
   "outputs": [],
   "source": []
  },
  {
   "cell_type": "code",
   "execution_count": null,
   "metadata": {},
   "outputs": [],
   "source": [
    "\n"
   ]
  }
 ],
 "metadata": {
  "kernelspec": {
   "display_name": "Python 3",
   "language": "python",
   "name": "python3"
  },
  "language_info": {
   "codemirror_mode": {
    "name": "ipython",
    "version": 3
   },
   "file_extension": ".py",
   "mimetype": "text/x-python",
   "name": "python",
   "nbconvert_exporter": "python",
   "pygments_lexer": "ipython3",
   "version": "3.8.5"
  }
 },
 "nbformat": 4,
 "nbformat_minor": 4
}
