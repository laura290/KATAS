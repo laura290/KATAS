{
 "cells": [
  {
   "cell_type": "markdown",
   "metadata": {},
   "source": [
    "Empresa sueldo 10 personas: 1)sueldos en una lista 2)impresion sueldos 3)cuantos sueldos superiores 1200€ 4)retornar la media de los sueldos 5)mostrar sueldos por debajo del promedio"
   ]
  },
  {
   "cell_type": "markdown",
   "metadata": {},
   "source": [
    "## Apartado 1"
   ]
  },
  {
   "cell_type": "code",
   "execution_count": 2,
   "metadata": {},
   "outputs": [
    {
     "name": "stdout",
     "output_type": "stream",
     "text": [
      "Los sueldos de los empleados son : [1000, 2000, 3000, 800, 500, 200, 1300, 2100, 1150, 600]\n"
     ]
    }
   ],
   "source": [
    "sueldos=[1000, 2000, 3000, 800, 500, 200, 1300, 2100, 1150, 600]\n",
    "print(\"Los sueldos de los empleados son :\", sueldos)"
   ]
  },
  {
   "cell_type": "markdown",
   "metadata": {},
   "source": [
    "## Apartado 3\n",
    " Con una función y un bucle"
   ]
  },
  {
   "cell_type": "code",
   "execution_count": 3,
   "metadata": {},
   "outputs": [],
   "source": [
    "#3.1\n",
    "s=[]\n",
    "for i in sueldos:\n",
    "    if i>=1200:\n",
    "        s.append(i)"
   ]
  },
  {
   "cell_type": "code",
   "execution_count": 4,
   "metadata": {},
   "outputs": [
    {
     "data": {
      "text/plain": [
       "[2000, 3000, 1300, 2100]"
      ]
     },
     "execution_count": 4,
     "metadata": {},
     "output_type": "execute_result"
    }
   ],
   "source": [
    "s"
   ]
  },
  {
   "cell_type": "code",
   "execution_count": 5,
   "metadata": {},
   "outputs": [],
   "source": [
    "#3.2\n",
    "def sueldo_2(sueldos):\n",
    "    s=0\n",
    "    for i in sueldos:\n",
    "        if i>=1200:\n",
    "            s=s+1\n",
    "    return(s)"
   ]
  },
  {
   "cell_type": "markdown",
   "metadata": {},
   "source": [
    "## Apartado 4"
   ]
  },
  {
   "cell_type": "code",
   "execution_count": 7,
   "metadata": {},
   "outputs": [
    {
     "name": "stdout",
     "output_type": "stream",
     "text": [
      "1265.0\n"
     ]
    }
   ],
   "source": [
    "suma=[]\n",
    "for i in sueldos:\n",
    "    suma=sum(sueldos)\n",
    "print(suma/len(sueldos))\n",
    "    "
   ]
  },
  {
   "cell_type": "code",
   "execution_count": 8,
   "metadata": {},
   "outputs": [],
   "source": [
    "def promedio(sueldos):\n",
    "    return(sum(sueldos)/len(sueldos))"
   ]
  },
  {
   "cell_type": "code",
   "execution_count": 9,
   "metadata": {},
   "outputs": [
    {
     "name": "stdout",
     "output_type": "stream",
     "text": [
      "1265.0\n"
     ]
    }
   ],
   "source": [
    "print( promedio(sueldos))"
   ]
  },
  {
   "cell_type": "code",
   "execution_count": 10,
   "metadata": {},
   "outputs": [],
   "source": [
    "promedio_1=promedio(sueldos)"
   ]
  },
  {
   "cell_type": "markdown",
   "metadata": {},
   "source": [
    "## Apartado 5"
   ]
  },
  {
   "cell_type": "code",
   "execution_count": 12,
   "metadata": {},
   "outputs": [
    {
     "name": "stdout",
     "output_type": "stream",
     "text": [
      "Sueldos menores que la media [1000, 800, 500, 200, 1150, 600]\n"
     ]
    }
   ],
   "source": [
    "bajos=[]\n",
    "for i in sueldos:\n",
    "    if i<promedio_1:\n",
    "        bajos.append(i)\n",
    "print(\"Sueldos menores que la media\", bajos)"
   ]
  },
  {
   "cell_type": "code",
   "execution_count": null,
   "metadata": {},
   "outputs": [],
   "source": []
  }
 ],
 "metadata": {
  "kernelspec": {
   "display_name": "Python 3",
   "language": "python",
   "name": "python3"
  },
  "language_info": {
   "codemirror_mode": {
    "name": "ipython",
    "version": 3
   },
   "file_extension": ".py",
   "mimetype": "text/x-python",
   "name": "python",
   "nbconvert_exporter": "python",
   "pygments_lexer": "ipython3",
   "version": "3.8.5"
  }
 },
 "nbformat": 4,
 "nbformat_minor": 4
}
